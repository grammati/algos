{
 "cells": [
  {
   "cell_type": "code",
   "execution_count": 6,
   "metadata": {
    "collapsed": false
   },
   "outputs": [
    {
     "data": {
      "text/plain": [
       "1"
      ]
     },
     "execution_count": 6,
     "metadata": {},
     "output_type": "execute_result"
    }
   ],
   "source": [
    "3 // 2"
   ]
  },
  {
   "cell_type": "code",
   "execution_count": 47,
   "metadata": {
    "collapsed": false
   },
   "outputs": [],
   "source": [
    "class Solution(object):\n",
    "    def findMedianSortedArrays(self, nums1, nums2):\n",
    "        \"\"\"\n",
    "        :type nums1: List[int]\n",
    "        :type nums2: List[int]\n",
    "        :rtype: float\n",
    "        \"\"\"\n",
    "        N = len(nums1) + len(nums2)\n",
    "        target_i = N / 2\n",
    "        avg_of_2 = False\n",
    "        if N % 2 == 0:\n",
    "            avg_of_2 = True\n",
    "            target_i -= 1\n",
    "        i1 = 0\n",
    "        i2 = 0\n",
    "        print 'target:', target_i\n",
    "        def pop_min(a1,a2,i1,i2):\n",
    "            if i1 < len(a1) and i2 < len(a2):\n",
    "                if a1[i1] < a2[i2]:\n",
    "                    return [i1+1, i2, a1[i1]]\n",
    "                else:\n",
    "                    return [i1, i2+1, a2[i2]]\n",
    "            if i1 < len(a1):\n",
    "                return [i1+1, i2, a1[i1]]\n",
    "            if i2 < len(a2):\n",
    "                return [i1, i2+1, a2[i2]]\n",
    "            return None\n",
    "        \n",
    "        while i1+i2 <= target_i:\n",
    "            i1,i2,v = pop_min(nums1, nums2, i1, i2)\n",
    "            print i1,i2,v\n",
    "        \n",
    "        if avg_of_2:\n",
    "            _,_,v2 = pop_min(nums1, nums2, i1, i2)\n",
    "            print 'pop:', v2\n",
    "            return (v+v2)/2.0\n",
    "        return v\n",
    "        \n",
    "def f(a1,a2):\n",
    "    return Solution().findMedianSortedArrays(a1,a2)\n"
   ]
  },
  {
   "cell_type": "code",
   "execution_count": 48,
   "metadata": {
    "collapsed": false
   },
   "outputs": [
    {
     "name": "stdout",
     "output_type": "stream",
     "text": [
      "target: 1\n",
      "1 0 1\n",
      "1 1 2\n"
     ]
    },
    {
     "data": {
      "text/plain": [
       "2"
      ]
     },
     "execution_count": 48,
     "metadata": {},
     "output_type": "execute_result"
    }
   ],
   "source": [
    "f([1,3],[2])"
   ]
  },
  {
   "cell_type": "code",
   "execution_count": 49,
   "metadata": {
    "collapsed": false
   },
   "outputs": [
    {
     "name": "stdout",
     "output_type": "stream",
     "text": [
      "target: 2\n",
      "1 0 1\n",
      "2 0 2\n",
      "2 1 3\n",
      "pop: 4\n"
     ]
    },
    {
     "data": {
      "text/plain": [
       "3.5"
      ]
     },
     "execution_count": 49,
     "metadata": {},
     "output_type": "execute_result"
    }
   ],
   "source": [
    "f([1,2],[3,4])"
   ]
  },
  {
   "cell_type": "code",
   "execution_count": null,
   "metadata": {
    "collapsed": true
   },
   "outputs": [],
   "source": []
  }
 ],
 "metadata": {
  "kernelspec": {
   "display_name": "Python 2",
   "language": "python",
   "name": "python2"
  },
  "language_info": {
   "codemirror_mode": {
    "name": "ipython",
    "version": 2
   },
   "file_extension": ".py",
   "mimetype": "text/x-python",
   "name": "python",
   "nbconvert_exporter": "python",
   "pygments_lexer": "ipython2",
   "version": "2.7.11"
  }
 },
 "nbformat": 4,
 "nbformat_minor": 0
}
